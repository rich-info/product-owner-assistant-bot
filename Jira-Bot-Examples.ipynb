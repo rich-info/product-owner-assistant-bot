{
 "cells": [
  {
   "cell_type": "code",
   "execution_count": null,
   "metadata": {},
   "outputs": [],
   "source": [
    "# Product assistant bot for Jira\n",
    "\n",
    "## Introduction\n",
    "\n",
    "This Jupyter notebook demonstrates how to:\n",
    "1. Connect to Jira REST API and fetch issues\n",
    "2. Analyze issues using OpenAI's API\n",
    "3. Add AI-generated comments back to Jira issues\n",
    "\n",
    "### Prerequisites:\n",
    "- Jira API token\n",
    "- OpenAI API key\n",
    "- Python packages in requirements.txt\n",
    "\n",
    "### Configuration:\n",
    "Before running this notebook, you'll need to:\n",
    "1. Set up your Jira API token\n",
    "2. Configure your OpenAI API token\n",
    "3. Specify your Jira project key\n",
    "\n",
    "Note: Make sure to handle your API credentials securely and never commit them to version control."
   ]
  },
  {
   "cell_type": "markdown",
   "metadata": {},
   "source": [
    "## Set JIRA credentials"
   ]
  },
  {
   "cell_type": "code",
   "execution_count": 6,
   "metadata": {},
   "outputs": [],
   "source": [
    "jira_server = \"https://YOUR-COMPANY.atlassian.net/\"\n",
    "jira_user = \"USER@YOUR-COMPANY.com\"\n",
    "jira_api_token = \"TOKEN\"\n",
    "jira_project_key = \"KEY\""
   ]
  },
  {
   "cell_type": "markdown",
   "metadata": {},
   "source": [
    "## Connect to jira and read the issues"
   ]
  },
  {
   "cell_type": "code",
   "execution_count": 7,
   "metadata": {},
   "outputs": [],
   "source": [
    "from jira import JIRA\n",
    "\n",
    "# Connect to Jira\n",
    "jira_options = {\"server\": jira_server}\n",
    "jira = JIRA(options=jira_options, basic_auth=(jira_user, jira_api_token))\n",
    "\n",
    "# Fetch issues\n",
    "issues = jira.search_issues(f\"project={jira_project_key}\")\n"
   ]
  },
  {
   "cell_type": "markdown",
   "metadata": {},
   "source": [
    "## Set OpenAI credentials"
   ]
  },
  {
   "cell_type": "code",
   "execution_count": 8,
   "metadata": {},
   "outputs": [],
   "source": [
    "openai_api_key = \"sk-proj-KEY\""
   ]
  },
  {
   "cell_type": "markdown",
   "metadata": {},
   "source": [
    "## Analyse JIRA issue and make suggestions with OpenAI"
   ]
  },
  {
   "cell_type": "code",
   "execution_count": 9,
   "metadata": {},
   "outputs": [],
   "source": [
    "from openai import OpenAI\n",
    "\n",
    "# Connect to OpenAI\n",
    "openai_client = OpenAI(\n",
    "    api_key=openai_api_key\n",
    ")\n",
    "\n",
    "# Analyze issues and add comments\n",
    "for issue in issues:\n",
    "  title = issue.fields.summary or \"\"\n",
    "  description = issue.fields.description or \"\"\n",
    "  prompt = f\"Analyze the following description and generate a TODO list:\\n{title}\"\n",
    "\n",
    "  chat_completion = openai_client.chat.completions.create(\n",
    "      messages=[\n",
    "          {\n",
    "              \"role\": \"user\",\n",
    "              \"content\": prompt,\n",
    "          }\n",
    "      ],\n",
    "      model=\"gpt-4o-mini-2024-07-18\",\n",
    "  )\n",
    "  todo_text = chat_completion.choices[0].message.content.strip()\n",
    "  comment = f\"AI-generated TODO:\\n{todo_text}\"\n",
    "  jira.add_comment(issue, comment)"
   ]
  }
 ],
 "metadata": {
  "kernelspec": {
   "display_name": ".venv",
   "language": "python",
   "name": "python3"
  },
  "language_info": {
   "codemirror_mode": {
    "name": "ipython",
    "version": 3
   },
   "file_extension": ".py",
   "mimetype": "text/x-python",
   "name": "python",
   "nbconvert_exporter": "python",
   "pygments_lexer": "ipython3",
   "version": "3.10.8"
  }
 },
 "nbformat": 4,
 "nbformat_minor": 2
}
